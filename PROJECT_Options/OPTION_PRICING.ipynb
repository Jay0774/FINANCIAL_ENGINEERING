{
  "nbformat": 4,
  "nbformat_minor": 0,
  "metadata": {
    "colab": {
      "name": "OPTION PRICING",
      "provenance": [],
      "collapsed_sections": []
    },
    "kernelspec": {
      "name": "python3",
      "display_name": "Python 3"
    },
    "language_info": {
      "name": "python"
    }
  },
  "cells": [
    {
      "cell_type": "markdown",
      "source": [
        "# Importing Libraries"
      ],
      "metadata": {
        "id": "09oC-gWzsKKn"
      }
    },
    {
      "cell_type": "code",
      "source": [
        "from numpy import log as ln\n",
        "import numpy as np\n",
        "from scipy.stats import norm\n",
        "import pandas as pd\n",
        "from numpy.ma.core import log\n",
        "from statistics import mean"
      ],
      "metadata": {
        "id": "yY7G9xsBjRsi"
      },
      "execution_count": null,
      "outputs": []
    },
    {
      "cell_type": "code",
      "source": [
        "df = pd.read_csv('Data.csv') \n",
        "print(df)"
      ],
      "metadata": {
        "colab": {
          "base_uri": "https://localhost:8080/"
        },
        "id": "e5D3LY4My4JC",
        "outputId": "e721d1e9-122d-42d5-f1d6-ae6db7e9b748"
      },
      "execution_count": null,
      "outputs": [
        {
          "output_type": "stream",
          "name": "stdout",
          "text": [
            "             Date  Price_appl  Price_amzn  Price_appl.1\n",
            "0    Mar 22, 2021       123.0      3110.0         670.0\n",
            "1    Mar 23, 2021       123.0      3140.0         662.0\n",
            "2    Mar 24, 2021       120.0      3090.0         630.0\n",
            "3    Mar 25, 2021       121.0      3050.0         640.0\n",
            "4    Mar 26, 2021       121.0      3050.0         619.0\n",
            "..            ...         ...         ...           ...\n",
            "269  Apr 13, 2022       170.0      3110.0        1020.0\n",
            "270  Apr 14, 2022       165.0      3030.0         985.0\n",
            "271  Apr 18, 2022       165.0      3060.0        1000.0\n",
            "272  Apr 19, 2022       167.0      3160.0        1030.0\n",
            "273  Apr 20, 2022       167.0      3080.0         977.0\n",
            "\n",
            "[274 rows x 4 columns]\n"
          ]
        }
      ]
    },
    {
      "cell_type": "markdown",
      "source": [
        "# Defining the function for Binomial Model and Black Scholes Model."
      ],
      "metadata": {
        "id": "XGrVel43W_C9"
      }
    },
    {
      "cell_type": "code",
      "execution_count": null,
      "metadata": {
        "id": "PytAMLW9Wwjf"
      },
      "outputs": [],
      "source": [
        "def binomial_model(s0,k,T,u,d,n,r):\n",
        "  dt = T/n\n",
        "  p = ( 2.72**(r*dt) - d)/(u-d)\n",
        "  div =  2.72**(r*dt)\n",
        "  iterations = n + 1\n",
        "  s_n = []\n",
        "  for i in range(iterations):\n",
        "    x = s0*(u**(n-i))*(d**i)\n",
        "    if x-k > 0:\n",
        "      s_n.append(x-k)\n",
        "    else:\n",
        "      s_n.append(0)\n",
        "  u = []\n",
        "  l = []\n",
        "  for i in range(len(s_n)-1):\n",
        "    l.append((p*s_n[i]+(1-p)*s_n[i+1])/div)\n",
        "  u.append(l)\n",
        "  for i in range(n-1):\n",
        "    l = []\n",
        "    for j in range(len(u[i])-1):\n",
        "      l.append((p*u[i][j]+(1-p)*u[i][j+1])/div)\n",
        "    u.append(l)\n",
        "  '''\n",
        "  print(\"r : \",r)\n",
        "  print(\"r * dt\", r*dt)\n",
        "  print(\"e^r*dt : \",div)\n",
        "  print(\"P : \",p)\n",
        "  print(\"1-P : \",1-p)\n",
        "  print(\"u : \",u)\n",
        "  print(\"d : \",d)\n",
        "  print(\"s0 : \",s0)\n",
        "  print(\"st :\",s_n)\n",
        "  for i in range(len(u)):\n",
        "    print(u[i])\n",
        "  '''\n",
        "  return u[len(u)-1]\n",
        "\n",
        "def call_option_parity(s0,c0,k,r,T):\n",
        "  p0 = c0 - s0 + k * (2.72**(-r*T))\n",
        "  return p0\n",
        "\n",
        "def black_scholes(s,k,r,T,sigma):\n",
        "  x = sigma * np.sqrt(T)\n",
        "  d1 = ((ln(s/k) + (r + (sigma**2)*0.5)*T)/x)\n",
        "  d2 = d1 - x\n",
        "  nd1 = norm.cdf(d1)\n",
        "  nd2 = norm.cdf(d2)\n",
        "  c = s * nd1 - k * 2.72**(-r*T) * nd2 \n",
        "  '''\n",
        "  print(\"d1 : \",d1)\n",
        "  print(\"nd1 : \",nd1)\n",
        "  print(\"d2 : \",d2)\n",
        "  print(\"nd2 : \",nd2)\n",
        "  '''\n",
        "  return d1,d2,c\n",
        "\n",
        "def implied_volatility(cm,s,k,r,T):\n",
        "  e = 1\n",
        "  tol = 1e-4\n",
        "  c = 1\n",
        "  sigma_implied = 0.001\n",
        "  f = 0.001\n",
        "  '''\n",
        "  while e > tol:\n",
        "    c = c + 1\n",
        "    if c > 10000:\n",
        "      print(\"Breaking the Loop since max count reached\")\n",
        "      break\n",
        "    sigma_old = sigma_implied\n",
        "    d1,d2,c0 = black_scholes(s,k,r,T,sigma_old)\n",
        "    function_value = cm - c0\n",
        "    diff = s * norm.cdf(d1) * np.sqrt(T)\n",
        "    if diff:\n",
        "      sigma_implied = sigma_old -function_value/diff\n",
        "    e = abs((sigma_implied-sigma_old)/sigma_old) \n",
        "  '''\n",
        "  #print(cm,s,k,r,T)\n",
        "  x = []\n",
        "  y = []\n",
        "  for i in range(999):\n",
        "    d1,d2,ci = black_scholes(s,k,r,T,sigma_implied)\n",
        "    #print(ci)\n",
        "    x.append(abs((cm-ci)/cm))\n",
        "    y.append(sigma_implied)\n",
        "    #print(\"For simga : \",sigma_implied,\" difference between market and blackscholes price is \",abs(cm-ci))\n",
        "    sigma_implied +=f \n",
        "  index = x.index(min(x))\n",
        "  return y[index]\n",
        "\n",
        "def self_financing_strategy(s0,sts,cts,r,Time):\n",
        "  strategy = []\n",
        "  for i in range(len(sts)):\n",
        "    Time[i]/=252\n",
        "    #print(cts[i],s0,sts[i],r,Time[i])\n",
        "    sigma = implied_volatility(cts[i],s0,sts[i],r,Time[i])\n",
        "    x = sigma * np.sqrt(Time[i])\n",
        "    print(\"Implied Volatility for week \",i+1,\" is \",sigma)\n",
        "    d1 = ((ln(s0/sts[i]) + (r + (sigma**2)*0.5)*Time[i])/x)\n",
        "    nd1 = norm.cdf(d1)\n",
        "    strategy.append(nd1)\n",
        "  return strategy"
      ]
    },
    {
      "cell_type": "code",
      "source": [
        "def sigma_from_data(p):\n",
        "  r = []\n",
        "  l = len(p)\n",
        "  for i in range(1,l):\n",
        "    r.append(ln(float(p[i])/float(p[i-1])))\n",
        "  print(r)\n",
        "  m = mean(r)\n",
        "  sum = 0\n",
        "  for i in range(len(r)):\n",
        "    sum += (r[i]-m)**2\n",
        "  sum = sum/len(r)\n",
        "  s = np.sqrt(sum)\n",
        "  sigma = s/np.sqrt(k/252) \n",
        "  return s,sigma\n",
        "\n",
        "def self_financing_strategy_sigma(s0,sts,cts,r,T,s):\n",
        "  strategy = []\n",
        "  for i in range(len(sts)):\n",
        "    T[i]/=252\n",
        "    #print(T[i],s)\n",
        "    sigma = s/np.sqrt(T[i])\n",
        "    x = sigma * np.sqrt(T[i])\n",
        "    print(\"Implied Volatility for week \",i+1,\" is \",sigma)\n",
        "    d1 = ((ln(s0/sts[i]) + (r + (sigma**2)*0.5)*T[i])/x)\n",
        "    nd1 = norm.cdf(d1)\n",
        "    strategy.append(nd1)\n",
        "  return strategy"
      ],
      "metadata": {
        "id": "SuTy24lTzNLB"
      },
      "execution_count": null,
      "outputs": []
    },
    {
      "cell_type": "markdown",
      "source": [
        "# Testing the Models for a test case:"
      ],
      "metadata": {
        "id": "hee1pWnTsUTq"
      }
    },
    {
      "cell_type": "code",
      "source": [
        "s0 = 100\n",
        "T = 45/252\n",
        "sigma = 0.35\n",
        "r = 0.05\n",
        "n = 500\n",
        "k = 80\n",
        "u = 2.72**(sigma * np.sqrt(T/n))\n",
        "d = 1/u\n",
        "print(\"Initial Parameters\")\n",
        "print(\"r : \",r)\n",
        "print(\"u : \",u)\n",
        "print(\"d : \",d)\n",
        "print(\"k : \",k)\n",
        "print(\"T : \",T)\n",
        "print(\"s0 : \",s0)\n",
        "print(\"n : \",n)"
      ],
      "metadata": {
        "colab": {
          "base_uri": "https://localhost:8080/"
        },
        "id": "1x0fPFWBYSTX",
        "outputId": "42d62b0c-e321-40a9-a5ad-1f546cf658df"
      },
      "execution_count": null,
      "outputs": [
        {
          "output_type": "stream",
          "name": "stdout",
          "text": [
            "Initial Parameters\n",
            "r :  0.05\n",
            "u :  1.006640508827928\n",
            "d :  0.9934032966389761\n",
            "k :  80\n",
            "T :  0.17857142857142858\n",
            "s0 :  100\n",
            "n :  500\n"
          ]
        }
      ]
    },
    {
      "cell_type": "code",
      "source": [
        "c1 = binomial_model(s0,k,T,u,d,n,r)[0]\n",
        "p1 = call_option_parity(s0,c1,k,r,T)\n",
        "d1,d2,c2= black_scholes(s0,k,r,T,sigma)\n",
        "p2 = call_option_parity(s0,c2,k,r,T)\n",
        "print(\"For Binomial Model with n = \",n)\n",
        "print(\"c0 : \",c1)\n",
        "print(\"p0 : \",p1)\n",
        "print(\"For Black Scholes Model:\")\n",
        "print(\"c0 : \",c2)\n",
        "print(\"p0 : \",p2)\n",
        "print(\"As we can see the difference between them is : \",abs(c2-c1))"
      ],
      "metadata": {
        "colab": {
          "base_uri": "https://localhost:8080/"
        },
        "id": "kt6ihRxlntVU",
        "outputId": "7592d40a-95eb-49ee-d162-d37386836ea8"
      },
      "execution_count": null,
      "outputs": [
        {
          "output_type": "stream",
          "name": "stdout",
          "text": [
            "For Binomial Model with n =  500\n",
            "c0 :  21.040408287845587\n",
            "p0 :  0.32885454990966423\n",
            "For Black Scholes Model:\n",
            "c0 :  21.039971395137954\n",
            "p0 :  0.3284176572020243\n",
            "As we can see the difference between them is :  0.00043689270763280774\n"
          ]
        }
      ]
    },
    {
      "cell_type": "code",
      "source": [
        "sigma_i = implied_volatility(c1,s0,k,r,T)\n",
        "print(\"Sigma Implied is Calculated as : \",sigma_i)"
      ],
      "metadata": {
        "colab": {
          "base_uri": "https://localhost:8080/"
        },
        "id": "pHPqdRiGbKmo",
        "outputId": "9e169168-6df0-4453-a4f6-a0537c374367"
      },
      "execution_count": null,
      "outputs": [
        {
          "output_type": "stream",
          "name": "stdout",
          "text": [
            "Sigma Implied is Calculated as :  0.35000000000000026\n"
          ]
        }
      ]
    },
    {
      "cell_type": "markdown",
      "source": [
        "# For Analysis of three different stocks:\n",
        "# 1. Apple Stock [link](https://www.investing.com/equities/apple-computer-inc-options)"
      ],
      "metadata": {
        "id": "oFbKIkGzuIj1"
      }
    },
    {
      "cell_type": "code",
      "source": [
        "s0 = 167.23\n",
        "T = 93/252\n",
        "sigma = 0.3142\n",
        "r = 0.05\n",
        "n = 500\n",
        "k = 165\n",
        "u = 2.72**(sigma * np.sqrt(T/n))\n",
        "d = 1/u\n",
        "print(\"Initial Parameters for today\")\n",
        "print(\"r : \",r)\n",
        "print(\"u : \",u)\n",
        "print(\"d : \",d)\n",
        "print(\"k : \",k)\n",
        "print(\"T : \",T)\n",
        "print(\"s0 : \",s0)\n",
        "print(\"n : \",n)"
      ],
      "metadata": {
        "id": "OIqxWPgQuH3Z",
        "colab": {
          "base_uri": "https://localhost:8080/"
        },
        "outputId": "2716815d-6a69-48f9-9cfe-45a33a7c7c2d"
      },
      "execution_count": null,
      "outputs": [
        {
          "output_type": "stream",
          "name": "stdout",
          "text": [
            "Initial Parameters for today\n",
            "r :  0.05\n",
            "u :  1.0085781337261415\n",
            "d :  0.9914948248040536\n",
            "k :  165\n",
            "T :  0.36904761904761907\n",
            "s0 :  167.23\n",
            "n :  500\n"
          ]
        }
      ]
    },
    {
      "cell_type": "code",
      "source": [
        "c1 = binomial_model(s0,k,T,u,d,n,r)[0]\n",
        "p1 = call_option_parity(s0,c1,k,r,T)\n",
        "d1,d2,c2= black_scholes(s0,k,r,T,sigma)\n",
        "p2 = call_option_parity(s0,c2,k,r,T)\n",
        "print(\"For Binomial Model with n = \",n)\n",
        "print(\"c0 : \",c1)\n",
        "print(\"p0 : \",p1)\n",
        "print(\"For Black Scholes Model:\")\n",
        "print(\"c0 : \",c2)\n",
        "print(\"p0 : \",p2)\n",
        "print(\"As we can see the difference between them is : \",abs(c2-c1))"
      ],
      "metadata": {
        "colab": {
          "base_uri": "https://localhost:8080/"
        },
        "id": "EQl3R1O0TgpQ",
        "outputId": "82689219-2d53-4caa-c810-81fe7e06b354"
      },
      "execution_count": null,
      "outputs": [
        {
          "output_type": "stream",
          "name": "stdout",
          "text": [
            "For Binomial Model with n =  500\n",
            "c0 :  15.323247433620892\n",
            "p0 :  10.074634382164163\n",
            "For Black Scholes Model:\n",
            "c0 :  15.313376173679927\n",
            "p0 :  10.064763122223212\n",
            "As we can see the difference between them is :  0.00987125994096516\n"
          ]
        }
      ]
    },
    {
      "cell_type": "code",
      "source": [
        "sigma_i = implied_volatility(c2,s0,k,r,T)\n",
        "print(\"Sigma Implied is Calculated as : \",sigma_i)"
      ],
      "metadata": {
        "colab": {
          "base_uri": "https://localhost:8080/"
        },
        "id": "ljTMTiu9TuvB",
        "outputId": "92000aca-d302-438f-b284-92b49efe680f"
      },
      "execution_count": null,
      "outputs": [
        {
          "output_type": "stream",
          "name": "stdout",
          "text": [
            "Sigma Implied is Calculated as :  0.3140000000000002\n"
          ]
        }
      ]
    },
    {
      "cell_type": "code",
      "source": [
        "price = df.iloc[:-180,1]\n",
        "s,sigma = sigma_from_data(price)\n",
        "print(s*np.sqrt(252/1))"
      ],
      "metadata": {
        "colab": {
          "base_uri": "https://localhost:8080/"
        },
        "id": "ucekWrjXyvDz",
        "outputId": "dfd120cc-81f3-4b6d-a55c-57eddf93884c"
      },
      "execution_count": null,
      "outputs": [
        {
          "output_type": "stream",
          "name": "stdout",
          "text": [
            "[0.0, -0.02469261259037152, 0.008298802814695064, 0.0, 0.0, -0.008298802814695066, 0.016529301951210506, 0.008163310639160835, 0.024097551579060524, 0.0, 0.015748356968139112, 0.015504186535965254, 0.022814677766171264, -0.01515180502060222, 0.022642476749759752, -0.015037877364540559, 0.022472855852058576, -0.00743497848751809, 0.0074349784875179905, -0.014925650216675706, 0.007490671729157659, -0.015037877364540559, 0.015037877364540502, 0.0074349784875179905, -0.00743497848751809, 0.0, -0.007490671729157626, -0.01515180502060222, 0.015151805020602246, -0.03831886430213666, 0.0, 0.015504186535965254, 0.0, -0.023347363996991177, -0.007905179507113261, -0.02409755157906053, 0.016129381929883717, 0.015873349156290163, -0.007905179507113261, -0.007968169649176845, 0.0, 0.015873349156290163, -0.01587334915629012, 0.015873349156290163, 0.0, 0.0, -0.01587334915629012, 0.0, -0.008032171697264267, 0.008032171697264253, -0.008032171697264267, 0.01600034134644112, 0.0, 0.007905179507113247, 0.0, -0.007905179507113261, 0.007905179507113247, 0.023347363996991107, 0.0, 0.0, 0.01526747213078838, -0.01526747213078842, 0.01526747213078838, 0.015037877364540502, 0.0, -0.007490671729157626, 0.0, 0.014925650216675792, 0.00738010729762246, 0.007326040092072881, 0.0, 0.021661496781179467, 0.014184634991956381, 0.020906684819313643, -0.01388911216066715, 0.013889112160667093, 0.0, 0.0068728792877620504, 0.020339684237122783, -0.006734032181344068, -0.013605652055778598, -0.027779564107075706, 0.02777956410707567, -0.006872879287762064, 0.013698844358161927, 0.013513719166722855, 0.0, -0.01351371916672282, -0.013698844358161915, 0.0068728792877620504, 0.0, 0.0, 0.006825965070399891]\n",
            "0.21414325452147193\n"
          ]
        }
      ]
    },
    {
      "cell_type": "code",
      "source": [
        "s0 = 167.23\n",
        "sts = [165,165,165,165,165,165,165,165,165,165]\n",
        "cts = [2.91,5.35,6.05,6.55,7.1,7.6,9.3,10.75,12.4,14.25]\n",
        "Time = [1,8,12,17,20,24,28,48,67,93]\n",
        "strategy = self_financing_strategy(s0,sts,cts,r,Time)\n",
        "for i in range(len(strategy)):\n",
        "  print(\"For week \",i+1,\" the strategy or delta t value is : \",strategy[i])"
      ],
      "metadata": {
        "id": "-578Ujv13VoD",
        "colab": {
          "base_uri": "https://localhost:8080/"
        },
        "outputId": "99bbeab8-edb9-4553-f4f1-1fe3cf2b97d5"
      },
      "execution_count": null,
      "outputs": [
        {
          "output_type": "stream",
          "name": "stdout",
          "text": [
            "Implied Volatility for week  1  is  0.36400000000000027\n",
            "Implied Volatility for week  2  is  0.33700000000000024\n",
            "Implied Volatility for week  3  is  0.32000000000000023\n",
            "Implied Volatility for week  4  is  0.2930000000000002\n",
            "Implied Volatility for week  5  is  0.2970000000000002\n",
            "Implied Volatility for week  6  is  0.2930000000000002\n",
            "Implied Volatility for week  7  is  0.34600000000000025\n",
            "Implied Volatility for week  8  is  0.3030000000000002\n",
            "Implied Volatility for week  9  is  0.2960000000000002\n",
            "Implied Volatility for week  10  is  0.2870000000000002\n",
            "For week  1  the strategy or delta t value is :  0.7276043549615879\n",
            "For week  2  the strategy or delta t value is :  0.6102747069137797\n",
            "For week  3  the strategy or delta t value is :  0.6030538299370662\n",
            "For week  4  the strategy or delta t value is :  0.6020968477746342\n",
            "For week  5  the strategy or delta t value is :  0.5985939298734981\n",
            "For week  6  the strategy or delta t value is :  0.597290868616928\n",
            "For week  7  the strategy or delta t value is :  0.5879344498119585\n",
            "For week  8  the strategy or delta t value is :  0.5947016460342616\n",
            "For week  9  the strategy or delta t value is :  0.5992360372793886\n",
            "For week  10  the strategy or delta t value is :  0.6064230382476257\n"
          ]
        }
      ]
    },
    {
      "cell_type": "code",
      "source": [
        "s0 = 167.23\n",
        "sts = [165,165,165,165,165,165,165,165,165,165]\n",
        "Time = [1,8,12,17,20,24,28,48,67,93]\n",
        "strategy = self_financing_strategy_sigma(s0,sts,cts,r,Time,s)\n",
        "for i in range(len(strategy)):\n",
        "  print(\"For week \",i+1,\" the strategy or delta t value is : \",strategy[i])"
      ],
      "metadata": {
        "colab": {
          "base_uri": "https://localhost:8080/"
        },
        "id": "wGWQplHhDUph",
        "outputId": "1d3d7a0f-879b-4958-9102-a37ab54b8718"
      },
      "execution_count": null,
      "outputs": [
        {
          "output_type": "stream",
          "name": "stdout",
          "text": [
            "Implied Volatility for week  1  is  0.4322344719126786\n",
            "Implied Volatility for week  2  is  0.1528179630760207\n",
            "Implied Volatility for week  3  is  0.12477534435591038\n",
            "Implied Volatility for week  4  is  0.10483225780759081\n",
            "Implied Volatility for week  5  is  0.0966505661415473\n",
            "Implied Volatility for week  6  is  0.08822949211895083\n",
            "Implied Volatility for week  7  is  0.08168463719644861\n",
            "Implied Volatility for week  8  is  0.06238767217795519\n",
            "Implied Volatility for week  9  is  0.05280584526521296\n",
            "Implied Volatility for week  10  is  0.04482062681707625\n",
            "For week  1  the strategy or delta t value is :  0.696353921965916\n",
            "For week  2  the strategy or delta t value is :  0.7139467035827519\n",
            "For week  3  the strategy or delta t value is :  0.7237773312841909\n",
            "For week  4  the strategy or delta t value is :  0.7358276853489824\n",
            "For week  5  the strategy or delta t value is :  0.7429271442915077\n",
            "For week  6  the strategy or delta t value is :  0.7522363815111255\n",
            "For week  7  the strategy or delta t value is :  0.7613625216874678\n",
            "For week  8  the strategy or delta t value is :  0.8041207817967855\n",
            "For week  9  the strategy or delta t value is :  0.8401042128091163\n",
            "For week  10  the strategy or delta t value is :  0.8818625235994096\n"
          ]
        }
      ]
    },
    {
      "cell_type": "markdown",
      "source": [
        "# 2. Amazon Stock [link](https://www.investing.com/equities/amazon-com-inc-options)"
      ],
      "metadata": {
        "id": "KDFEL-eisKsk"
      }
    },
    {
      "cell_type": "code",
      "source": [
        "s0 = 3079.96\n",
        "T = 93/252\n",
        "sigma = 0.3571\n",
        "r = 0.05\n",
        "n = 500\n",
        "k = 3070\n",
        "u = 2.72**(sigma * np.sqrt(T/n))\n",
        "d = 1/u\n",
        "print(\"Initial Parameters\")\n",
        "print(\"r : \",r)\n",
        "print(\"u : \",u)\n",
        "print(\"d : \",d)\n",
        "print(\"k : \",k)\n",
        "print(\"T : \",T)\n",
        "print(\"s0 : \",s0)\n",
        "print(\"n : \",n)"
      ],
      "metadata": {
        "colab": {
          "base_uri": "https://localhost:8080/"
        },
        "id": "Bgg1oUcasPIU",
        "outputId": "733351e3-1d21-4a64-feba-2b8440a6a328"
      },
      "execution_count": null,
      "outputs": [
        {
          "output_type": "stream",
          "name": "stdout",
          "text": [
            "Initial Parameters\n",
            "r :  0.05\n",
            "u :  1.0097550637663424\n",
            "d :  0.9903391781666769\n",
            "k :  3070\n",
            "T :  0.36904761904761907\n",
            "s0 :  3079.96\n",
            "n :  500\n"
          ]
        }
      ]
    },
    {
      "cell_type": "code",
      "source": [
        "c1 = binomial_model(s0,k,T,u,d,n,r)[0]\n",
        "p1 = call_option_parity(s0,c1,k,r,T)\n",
        "d1,d2,c2= black_scholes(s0,k,r,T,sigma)\n",
        "p2 = call_option_parity(s0,c2,k,r,T)\n",
        "print(\"For Binomial Model with n = \",n)\n",
        "print(\"c0 : \",c1)\n",
        "print(\"p0 : \",p1)\n",
        "print(\"For Black Scholes Model:\")\n",
        "print(\"c0 : \",c2)\n",
        "print(\"p0 : \",p2)\n",
        "print(\"As we can see the difference between them is : \",abs(c2-c1))"
      ],
      "metadata": {
        "colab": {
          "base_uri": "https://localhost:8080/"
        },
        "id": "gxg-5VwOwZH0",
        "outputId": "53948fc9-038d-4d65-e21e-a68486987d96"
      },
      "execution_count": null,
      "outputs": [
        {
          "output_type": "stream",
          "name": "stdout",
          "text": [
            "For Binomial Model with n =  500\n",
            "c0 :  297.72783344145427\n",
            "p0 :  231.6033360598044\n",
            "For Black Scholes Model:\n",
            "c0 :  297.550057095915\n",
            "p0 :  231.4255597142651\n",
            "As we can see the difference between them is :  0.17777634553925736\n"
          ]
        }
      ]
    },
    {
      "cell_type": "code",
      "source": [
        "sigma_i = implied_volatility(c2,s0,k,r,T)\n",
        "print(\"Sigma Implied is Calculated as : \",sigma_i)"
      ],
      "metadata": {
        "colab": {
          "base_uri": "https://localhost:8080/"
        },
        "id": "N8NsjJYswdXK",
        "outputId": "c1f42010-864c-42ce-b6d9-d0f24b9a6144"
      },
      "execution_count": null,
      "outputs": [
        {
          "output_type": "stream",
          "name": "stdout",
          "text": [
            "Sigma Implied is Calculated as :  0.35700000000000026\n"
          ]
        }
      ]
    },
    {
      "cell_type": "code",
      "source": [
        "price = df.iloc[:-180,2]\n",
        "s,sigma = sigma_from_data(price)\n",
        "print(s*np.sqrt(252/1))"
      ],
      "metadata": {
        "colab": {
          "base_uri": "https://localhost:8080/"
        },
        "id": "49V1gAeDBX2j",
        "outputId": "95754414-8bd4-42f9-cc83-e26696d82d29"
      },
      "execution_count": null,
      "outputs": [
        {
          "output_type": "stream",
          "name": "stdout",
          "text": [
            "[0.009600073729019137, -0.0160517090105079, -0.013029500290333796, 0.0, 0.009788006366162944, -0.006514681021193642, 0.009756174945364656, 0.022400936689166713, 0.021910109635744326, -0.003100777678248271, 0.018462062839735352, 0.0060790460763821925, 0.02099027589183583, 0.0029629651306570487, 0.005899722127188322, -0.020803127629763284, 0.014903405502574948, 0.005899722127188322, -0.008862687257845317, -0.011940440371917863, 0.008968669982760316, -0.01499278458614128, 0.009022617599637552, 0.020741484306816372, 0.0029282597790883597, 0.011628037995119214, 0.0028860048891348514, 0.0, -0.023324672566408893, -0.02388173200338736, -0.012158204479809519, 0.012158204479809583, -0.006060624611690958, -0.030866647980527268, 0.009360442759563672, -0.02197890671877523, 0.0031695747612790395, 0.018809331957496293, 0.015408625352845061, -0.012307847674596814, 0.0, 0.006172859107081016, -0.015504186535965199, 0.01242251999855711, 0.006153865574378286, 0.003062789530545731, -0.012307847674596814, -0.003100777678248271, 0.0, 0.0031007776782481854, -0.012461220437812002, 0.006250020345171326, -0.003120127336243634, 0.018576385572935457, 0.006116227017436054, 0.021116923440922614, 0.0, 0.008915363657952329, 0.0, 0.01176484157958643, 0.02026118513982193, 0.0, -0.011527505171067383, 0.017241806434505954, -0.002853068982406399, -0.014388737452099556, -0.014598799421152636, 0.011696039763191236, 0.00290275965796141, -0.002902759657961351, -0.0029112102074584415, 0.023055776299925796, 0.047296714703065096, 0.005420067469339113, 0.008075414005545331, -0.002684565370668987, 0.0, -0.010810916104215617, 0.0, -0.013680103904080154, -0.016667052485211647, -0.005617992304223261, 0.005617992304223274, 0.005586606708639776, 0.013831479148461799, 0.0054794657646255705, 0.010869672236903891, -0.019100171373419378, 0.0, -0.008298802814695066, -0.0779615414697118, 0.0, 0.011940440371917849]\n",
            "0.24422604088769415\n"
          ]
        }
      ]
    },
    {
      "cell_type": "code",
      "source": [
        "s0 = 3079.96\n",
        "sts = [3070,3070,3070,3070,3070,3070,3070,3070,3070,3070]\n",
        "cts = [37,102,83,127,135,172,175,166,230,270.95]\n",
        "Time = [1,8,12,17,20,24,28,48,67,93]\n",
        "strategy = self_financing_strategy(s0,sts,cts,r,Time)\n",
        "for i in range(len(strategy)):\n",
        "  print(\"For week \",i+1,\" the strategy or delta t value is : \",strategy[i])"
      ],
      "metadata": {
        "colab": {
          "base_uri": "https://localhost:8080/"
        },
        "id": "xRJvNURLvzcg",
        "outputId": "578f9e74-1eb5-43a9-f9a8-6935ae85a373"
      },
      "execution_count": null,
      "outputs": [
        {
          "output_type": "stream",
          "name": "stdout",
          "text": [
            "Implied Volatility for week  1  is  0.4070000000000003\n",
            "Implied Volatility for week  2  is  0.43200000000000033\n",
            "Implied Volatility for week  3  is  0.2770000000000002\n",
            "Implied Volatility for week  4  is  0.36700000000000027\n",
            "Implied Volatility for week  5  is  0.35900000000000026\n",
            "Implied Volatility for week  6  is  0.4220000000000003\n",
            "Implied Volatility for week  7  is  0.3950000000000003\n",
            "Implied Volatility for week  8  is  0.2730000000000002\n",
            "Implied Volatility for week  9  is  0.32500000000000023\n",
            "Implied Volatility for week  10  is  0.32100000000000023\n",
            "For week  1  the strategy or delta t value is :  0.5583917648712073\n",
            "For week  2  the strategy or delta t value is :  0.5402997497044508\n",
            "For week  3  the strategy or delta t value is :  0.5490249207261282\n",
            "For week  4  the strategy or delta t value is :  0.5465805551753147\n",
            "For week  5  the strategy or delta t value is :  0.548483690543196\n",
            "For week  6  the strategy or delta t value is :  0.5503525658632864\n",
            "For week  7  the strategy or delta t value is :  0.5527561244877338\n",
            "For week  8  the strategy or delta t value is :  0.5661938374116376\n",
            "For week  9  the strategy or delta t value is :  0.5723834865260085\n",
            "For week  10  the strategy or delta t value is :  0.5826735081020818\n"
          ]
        }
      ]
    },
    {
      "cell_type": "code",
      "source": [
        "s0 = 3079.96\n",
        "sts = [3070,3070,3070,3070,3070,3070,3070,3070,3070,3070]\n",
        "Time = [1,8,12,17,20,24,28,48,67,93]\n",
        "strategy = self_financing_strategy_sigma(s0,sts,cts,r,Time,s)\n",
        "for i in range(len(strategy)):\n",
        "  print(\"For week \",i+1,\" the strategy or delta t value is : \",strategy[i])"
      ],
      "metadata": {
        "colab": {
          "base_uri": "https://localhost:8080/"
        },
        "id": "nRlBA3pKDQQR",
        "outputId": "d97cbeec-cc41-4155-bf7c-d3b45214a993"
      },
      "execution_count": null,
      "outputs": [
        {
          "output_type": "stream",
          "name": "stdout",
          "text": [
            "Implied Volatility for week  1  is  0.4322344719126786\n",
            "Implied Volatility for week  2  is  0.1528179630760207\n",
            "Implied Volatility for week  3  is  0.12477534435591038\n",
            "Implied Volatility for week  4  is  0.10483225780759081\n",
            "Implied Volatility for week  5  is  0.0966505661415473\n",
            "Implied Volatility for week  6  is  0.08822949211895083\n",
            "Implied Volatility for week  7  is  0.08168463719644861\n",
            "Implied Volatility for week  8  is  0.06238767217795519\n",
            "Implied Volatility for week  9  is  0.05280584526521296\n",
            "Implied Volatility for week  10  is  0.04482062681707625\n",
            "For week  1  the strategy or delta t value is :  0.5556148562818539\n",
            "For week  2  the strategy or delta t value is :  0.5756861158725061\n",
            "For week  3  the strategy or delta t value is :  0.5870713119082589\n",
            "For week  4  the strategy or delta t value is :  0.6011993978657266\n",
            "For week  5  the strategy or delta t value is :  0.6096142972915114\n",
            "For week  6  the strategy or delta t value is :  0.6207541312377063\n",
            "For week  7  the strategy or delta t value is :  0.6317945837444854\n",
            "For week  8  the strategy or delta t value is :  0.6852215592405612\n",
            "For week  9  the strategy or delta t value is :  0.7326357490167859\n",
            "For week  10  the strategy or delta t value is :  0.7911065789992584\n"
          ]
        }
      ]
    },
    {
      "cell_type": "markdown",
      "source": [
        "# 3. Tesla Stock [link](https://www.investing.com/equities/tesla-motors-options)"
      ],
      "metadata": {
        "id": "JPAsrZsusQRs"
      }
    },
    {
      "cell_type": "code",
      "source": [
        "s0 = 977.2\n",
        "T = 93/252\n",
        "sigma = 0.5986\n",
        "r = 0.05\n",
        "n = 500\n",
        "k = 975\n",
        "u = 2.72**(sigma * np.sqrt(T/n))\n",
        "d = 1/u\n",
        "print(\"Initial Parameters\")\n",
        "print(\"r : \",r)\n",
        "print(\"u : \",u)\n",
        "print(\"d : \",d)\n",
        "print(\"k : \",k)\n",
        "print(\"T : \",T)\n",
        "print(\"s0 : \",s0)\n",
        "print(\"n : \",n)"
      ],
      "metadata": {
        "colab": {
          "base_uri": "https://localhost:8080/"
        },
        "id": "DYBcInDZwimy",
        "outputId": "b9f33290-f3eb-468d-ad6e-6bf4ab91f983"
      },
      "execution_count": null,
      "outputs": [
        {
          "output_type": "stream",
          "name": "stdout",
          "text": [
            "Initial Parameters\n",
            "r :  0.05\n",
            "u :  1.016406112133936\n",
            "d :  0.9838587037818067\n",
            "k :  975\n",
            "T :  0.36904761904761907\n",
            "s0 :  977.2\n",
            "n :  500\n"
          ]
        }
      ]
    },
    {
      "cell_type": "code",
      "source": [
        "c1 = binomial_model(s0,k,T,u,d,n,r)[0]\n",
        "p1 = call_option_parity(s0,c1,k,r,T)\n",
        "d1,d2,c2= black_scholes(s0,k,r,T,sigma)\n",
        "p2 = call_option_parity(s0,c2,k,r,T)\n",
        "print(\"For Binomial Model with n = \",n)\n",
        "print(\"c0 : \",c1)\n",
        "print(\"p0 : \",p1)\n",
        "print(\"For Black Scholes Model:\")\n",
        "print(\"c0 : \",c2)\n",
        "print(\"p0 : \",p2)\n",
        "print(\"As we can see the difference between them is : \",abs(c2-c1))"
      ],
      "metadata": {
        "colab": {
          "base_uri": "https://localhost:8080/"
        },
        "id": "WMUsV2VowfsZ",
        "outputId": "52848318-071f-4743-b787-76ea319ec154"
      },
      "execution_count": null,
      "outputs": [
        {
          "output_type": "stream",
          "name": "stdout",
          "text": [
            "For Binomial Model with n =  500\n",
            "c0 :  149.83830865334613\n",
            "p0 :  129.80104971291985\n",
            "For Black Scholes Model:\n",
            "c0 :  149.78560826187748\n",
            "p0 :  129.74834932145131\n",
            "As we can see the difference between them is :  0.05270039146864747\n"
          ]
        }
      ]
    },
    {
      "cell_type": "code",
      "source": [
        "sigma_i = implied_volatility(c2,s0,k,r,T)\n",
        "print(\"Sigma Implied is Calculated as : \",sigma_i)"
      ],
      "metadata": {
        "colab": {
          "base_uri": "https://localhost:8080/"
        },
        "id": "atQOY5-WsTj0",
        "outputId": "c640c84e-1a4b-4263-932a-b250bdaf04ad"
      },
      "execution_count": null,
      "outputs": [
        {
          "output_type": "stream",
          "name": "stdout",
          "text": [
            "Sigma Implied is Calculated as :  0.5990000000000004\n"
          ]
        }
      ]
    },
    {
      "cell_type": "code",
      "source": [
        "price = df.iloc[:-180,3]\n",
        "s,sigma = sigma_from_data(price)\n",
        "print(s*np.sqrt(252/1))"
      ],
      "metadata": {
        "colab": {
          "base_uri": "https://localhost:8080/"
        },
        "id": "WwdD-6LEBafb",
        "outputId": "43fc7907-9a2e-419d-ac66-786409c4c36d"
      },
      "execution_count": null,
      "outputs": [
        {
          "output_type": "stream",
          "name": "stdout",
          "text": [
            "[-0.012012156448003545, -0.04954573655142988, 0.015748356968139112, -0.03336290366912146, -0.013008313513000734, 0.0401016041685268, 0.049089610196523574, -0.00902261759963753, 0.0428742678306616, 0.0014461318499997134, -0.030816818645987773, 0.01918878065086863, -0.010286644710275426, 0.036262131113536045, 0.08201315166083507, -0.04016604172533476, 0.009517406986890171, 0.0013522652500137541, -0.03436764350420777, 0.005578815027038934, 0.03417967711204518, -0.03278982282299084, 0.01242251999855711, 0.012270092591814401, -0.045746021788203806, -0.015725842305464175, -0.024800687594529493, 0.04618425361985248, -0.034436688269902156, -0.016188727349918282, -0.004460973940625228, -0.010486987495247962, 0.01197619104671562, -0.06612708382270902, -0.01926223279505275, -0.04474648700562273, -0.0309835455199672, 0.030983545519967227, -0.02228027039166556, 0.0017316021642778939, -0.02629424053268704, 0.041745191688406104, -0.010274062976185229, 0.04212922921740313, -0.0016515280384729533, 0.022876814653754608, 0.019200589856617153, -0.009554212804811611, -0.0016012813669738792, -0.030921910338586205, -0.05434274131610185, 0.0443758814007098, 0.009966859915392074, -0.001654260096026465, -0.008312599819365586, 0.018197359051907513, 0.0, 0.013029500290333897, -0.031226859342241446, 0.009966859915392074, 0.019640565874546417, 0.009677494882065438, -0.0032154368539743547, 0.004819286435948922, 0.05153365011518288, 0.03440877968554182, -0.011834457647002796, 0.024982930490509047, -0.011678964864146149, -0.0014695079793599947, -0.002945510229756803, 0.0014738396183005232, -0.02838129253822491, -0.02298951822469872, 0.01232681248065868, 0.0061068892081794805, 0.043193609241274765, -0.02509356759765672, -0.024206930851797422, -0.0030674870678618345, -0.010810916104215617, 0.0031007776782481854, 0.02295433606908448, -0.009118604216434345, -0.009202518931161894, -0.009287992466470604, 0.02306020708769788, -0.019954614529544702, 0.003095977705127992, 0.04532497841137434, 0.014663019310074271, 0.0329306778130118, 0.0]\n",
            "0.43223447191267866\n"
          ]
        }
      ]
    },
    {
      "cell_type": "code",
      "source": [
        "s0 = 977.2\n",
        "sts = [975,975,975,975,975,975,975,975,975,975]\n",
        "cts = [38.96,49.8,57,63.5,69.8,73,90,104,117.15,137]\n",
        "Time = [1,8,12,17,20,24,28,48,67,93]\n",
        "strategy = self_financing_strategy(s0,sts,cts,r,Time)\n",
        "for i in range(len(strategy)):\n",
        "  print(\"For week \",i+1,\" the strategy or delta t value is : \",strategy[i])"
      ],
      "metadata": {
        "colab": {
          "base_uri": "https://localhost:8080/"
        },
        "id": "ouM6qXY3v02P",
        "outputId": "3b14747c-ef77-430e-beb9-71207b11411c"
      },
      "execution_count": null,
      "outputs": [
        {
          "output_type": "stream",
          "name": "stdout",
          "text": [
            "Implied Volatility for week  1  is  0.9990000000000008\n",
            "Implied Volatility for week  2  is  0.6910000000000005\n",
            "Implied Volatility for week  3  is  0.6450000000000005\n",
            "Implied Volatility for week  4  is  0.6020000000000004\n",
            "Implied Volatility for week  5  is  0.6100000000000004\n",
            "Implied Volatility for week  6  is  0.5810000000000004\n",
            "Implied Volatility for week  7  is  0.6670000000000005\n",
            "Implied Volatility for week  8  is  0.5820000000000004\n",
            "Implied Volatility for week  9  is  0.5510000000000004\n",
            "Implied Volatility for week  10  is  0.5430000000000004\n",
            "For week  1  the strategy or delta t value is :  0.5280755925128532\n",
            "For week  2  the strategy or delta t value is :  0.5369521617909147\n",
            "For week  3  the strategy or delta t value is :  0.5411393868749876\n",
            "For week  4  the strategy or delta t value is :  0.5454469935695029\n",
            "For week  5  the strategy or delta t value is :  0.5486024183187258\n",
            "For week  6  the strategy or delta t value is :  0.5512336687719799\n",
            "For week  7  the strategy or delta t value is :  0.5581543668844152\n",
            "For week  8  the strategy or delta t value is :  0.5688199319849676\n",
            "For week  9  the strategy or delta t value is :  0.5779997707849255\n",
            "For week  10  the strategy or delta t value is :  0.590062408687981\n"
          ]
        }
      ]
    },
    {
      "cell_type": "code",
      "source": [
        "s0 = 977.2\n",
        "sts = [975,975,975,975,975,975,975,975,975,975]\n",
        "Time = [1,8,12,17,20,24,28,48,67,93]\n",
        "strategy = self_financing_strategy_sigma(s0,sts,cts,r,Time,s)\n",
        "for i in range(len(strategy)):\n",
        "  print(\"For week \",i+1,\" the strategy or delta t value is : \",strategy[i])"
      ],
      "metadata": {
        "colab": {
          "base_uri": "https://localhost:8080/"
        },
        "id": "Ddn5bh9fDHUx",
        "outputId": "98b3080c-75ee-4497-b0ff-472a4e75a9b2"
      },
      "execution_count": null,
      "outputs": [
        {
          "output_type": "stream",
          "name": "stdout",
          "text": [
            "Implied Volatility for week  1  is  0.4322344719126786\n",
            "Implied Volatility for week  2  is  0.1528179630760207\n",
            "Implied Volatility for week  3  is  0.12477534435591038\n",
            "Implied Volatility for week  4  is  0.10483225780759081\n",
            "Implied Volatility for week  5  is  0.0966505661415473\n",
            "Implied Volatility for week  6  is  0.08822949211895083\n",
            "Implied Volatility for week  7  is  0.08168463719644861\n",
            "Implied Volatility for week  8  is  0.06238767217795519\n",
            "Implied Volatility for week  9  is  0.05280584526521296\n",
            "Implied Volatility for week  10  is  0.04482062681707625\n",
            "For week  1  the strategy or delta t value is :  0.5412875898486015\n",
            "For week  2  the strategy or delta t value is :  0.5614660654997686\n",
            "For week  3  the strategy or delta t value is :  0.5729286967237132\n",
            "For week  4  the strategy or delta t value is :  0.5871697542989265\n",
            "For week  5  the strategy or delta t value is :  0.5956608961667025\n",
            "For week  6  the strategy or delta t value is :  0.6069120356395602\n",
            "For week  7  the strategy or delta t value is :  0.618074566167251\n",
            "For week  8  the strategy or delta t value is :  0.6722621661987168\n",
            "For week  9  the strategy or delta t value is :  0.7205989820440645\n",
            "For week  10  the strategy or delta t value is :  0.7805595878076967\n"
          ]
        }
      ]
    }
  ]
}