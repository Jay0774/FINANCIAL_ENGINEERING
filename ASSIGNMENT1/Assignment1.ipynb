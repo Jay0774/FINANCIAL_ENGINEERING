{
  "nbformat": 4,
  "nbformat_minor": 0,
  "metadata": {
    "colab": {
      "name": "Assignment1.ipynb",
      "provenance": []
    },
    "kernelspec": {
      "name": "python3",
      "display_name": "Python 3"
    },
    "language_info": {
      "name": "python"
    }
  },
  "cells": [
    {
      "cell_type": "markdown",
      "source": [
        "# Import Libararies"
      ],
      "metadata": {
        "id": "Ng3dC3DKp0ZG"
      }
    },
    {
      "cell_type": "code",
      "execution_count": 17,
      "metadata": {
        "id": "uAd3oYCArD5l"
      },
      "outputs": [],
      "source": [
        "import pandas as pd\n",
        "import numpy as np\n",
        "import matplotlib.pyplot as plt"
      ]
    },
    {
      "cell_type": "markdown",
      "source": [
        "# Getting Data and sorting that according to date"
      ],
      "metadata": {
        "id": "Cv1L77e0p5Zl"
      }
    },
    {
      "cell_type": "code",
      "source": [
        "A = pd.read_csv(\"AAPL.csv\")\n",
        "M = pd.read_csv(\"MSFT.csv\")\n",
        "print(A.info())\n",
        "print(M.info())\n",
        "A = A.sort_values(by='Date')\n",
        "M = M.sort_values(by='Date')"
      ],
      "metadata": {
        "colab": {
          "base_uri": "https://localhost:8080/"
        },
        "id": "5IpGEOi_rJXW",
        "outputId": "2fd9a7e3-7f13-4010-c3e4-3cdc8c372a11"
      },
      "execution_count": 37,
      "outputs": [
        {
          "output_type": "stream",
          "name": "stdout",
          "text": [
            "<class 'pandas.core.frame.DataFrame'>\n",
            "RangeIndex: 22 entries, 0 to 21\n",
            "Data columns (total 7 columns):\n",
            " #   Column    Non-Null Count  Dtype  \n",
            "---  ------    --------------  -----  \n",
            " 0   Date      22 non-null     object \n",
            " 1   Price     22 non-null     float64\n",
            " 2   Open      22 non-null     float64\n",
            " 3   High      22 non-null     float64\n",
            " 4   Low       22 non-null     float64\n",
            " 5   Vol.      22 non-null     object \n",
            " 6   Change %  22 non-null     object \n",
            "dtypes: float64(4), object(3)\n",
            "memory usage: 1.3+ KB\n",
            "None\n",
            "<class 'pandas.core.frame.DataFrame'>\n",
            "RangeIndex: 22 entries, 0 to 21\n",
            "Data columns (total 7 columns):\n",
            " #   Column    Non-Null Count  Dtype  \n",
            "---  ------    --------------  -----  \n",
            " 0   Date      22 non-null     object \n",
            " 1   Price     22 non-null     float64\n",
            " 2   Open      22 non-null     float64\n",
            " 3   High      22 non-null     float64\n",
            " 4   Low       22 non-null     float64\n",
            " 5   Vol.      22 non-null     object \n",
            " 6   Change %  22 non-null     object \n",
            "dtypes: float64(4), object(3)\n",
            "memory usage: 1.3+ KB\n",
            "None\n"
          ]
        }
      ]
    },
    {
      "cell_type": "markdown",
      "source": [
        "# Taking input from User"
      ],
      "metadata": {
        "id": "0KVJht67qCzW"
      }
    },
    {
      "cell_type": "code",
      "source": [
        "n = input(\"Enter the price feature you want: \\n 1. Price \\n 2. High \\n 3. Low \\n \")\n",
        "if n == \"1\" :\n",
        "  s = \"Price\"\n",
        "elif n == \"2\":\n",
        "  s = \"High\"\n",
        "elif n == \"3\":\n",
        "  s = \"Low\"\n",
        "else:\n",
        "  s = \"Error, Enter correct value from 1,2,3...\" \n",
        "print(s)"
      ],
      "metadata": {
        "colab": {
          "base_uri": "https://localhost:8080/"
        },
        "id": "SpmqGqDNr7yn",
        "outputId": "00a36dea-5b9e-4ecd-fe33-3e2be418eb75"
      },
      "execution_count": 38,
      "outputs": [
        {
          "output_type": "stream",
          "name": "stdout",
          "text": [
            "Enter the price feature you want: \n",
            " 1. Price \n",
            " 2. High \n",
            " 3. Low \n",
            " 1\n",
            "Price\n"
          ]
        }
      ]
    },
    {
      "cell_type": "markdown",
      "source": [
        "# Calaculating the mean, variance and Correralation coefficient"
      ],
      "metadata": {
        "id": "tkVspHQvqGRl"
      }
    },
    {
      "cell_type": "code",
      "source": [
        "i = A.columns.get_loc(s)\n",
        "p1 = A.iloc[:,i].values\n",
        "p2 = M.iloc[:,i].values\n",
        "#p1 = [float(x) for x in s1]\n",
        "#p2 = [float(x) for x in s2]\n",
        "print(p1)\n",
        "print(p2)\n",
        "r1 = []\n",
        "r2 = []\n",
        "for i in range(len(p1)-1):\n",
        "  r1.append((p1[i+1]-p1[i])/p1[i])\n",
        "  r2.append((p2[i+1]-p2[i])/p2[i])\n",
        "print(r1,len(r1))\n",
        "print(r2,len(r2))"
      ],
      "metadata": {
        "colab": {
          "base_uri": "https://localhost:8080/"
        },
        "id": "v865_uR5sgRd",
        "outputId": "7b4885e3-9697-4c2a-eb77-4d45d47c5f88"
      },
      "execution_count": 48,
      "outputs": [
        {
          "output_type": "stream",
          "name": "stdout",
          "text": [
            "[164.77 163.76 161.84 165.32 171.18 175.08 174.56 179.45 175.74 174.33\n",
            " 179.3  172.26 171.14 169.75 172.99 175.64 176.28 180.33 179.29 179.38\n",
            " 178.2  177.57]\n",
            "[330.08 329.49 323.01 326.19 334.92 334.97 333.1  342.54 339.4  328.34\n",
            " 334.65 324.9  323.8  319.91 327.29 333.2  334.69 342.45 341.25 341.95\n",
            " 339.32 336.32]\n",
            "[-0.00612975663045469, -0.011724474841230995, 0.021502718734552582, 0.03544640696830398, 0.022783035401331964, -0.0029700708247658797, 0.028013290559119993, -0.02067428252995252, -0.0080232161147149, 0.028509149314518433, -0.03926380368098171, -0.006501799605247908, -0.008122005375715708, 0.0190868924889544, 0.015318804555176467, 0.0036438168982009496, 0.022974812797821712, -0.005767204569400657, 0.0005019800323498434, -0.006578213847697663, -0.00353535353535351] 21\n",
            "[-0.0017874454677653145, -0.019666757716470966, 0.009844896442834608, 0.02676354272050038, 0.00014928938253914775, -0.005582589485625592, 0.028339837886520555, -0.009166812635020853, -0.03258691809074839, 0.01921788390083451, -0.029134917077543704, -0.003385657125269209, -0.012013588634959809, 0.023068988152917993, 0.018057380304928254, 0.004471788715486222, 0.023185634467716366, -0.003504161191414772, 0.002051282051282018, -0.007691182921479736, -0.008841211835435576] 21\n"
          ]
        }
      ]
    },
    {
      "cell_type": "code",
      "source": [
        "EA = np.mean(r1)\n",
        "EM = np.mean(r2)\n",
        "VA = np.var(r1)\n",
        "VM = np.var(r2)\n",
        "C = np.corrcoef(r1,r2)\n",
        "C = C[0][1]\n",
        "print(EA,EM)\n",
        "print(VA,VM)\n",
        "print(C)"
      ],
      "metadata": {
        "colab": {
          "base_uri": "https://localhost:8080/"
        },
        "id": "Iv4SMDAGx6jV",
        "outputId": "b0feb0da-6f58-491e-d3de-9936dbf6cf52"
      },
      "execution_count": 49,
      "outputs": [
        {
          "output_type": "stream",
          "name": "stdout",
          "text": [
            "0.0037376536283244845 0.0010375848497060061\n",
            "0.0003379499212105069 0.00029068735185978364\n",
            "0.8759828902224545\n"
          ]
        }
      ]
    },
    {
      "cell_type": "markdown",
      "source": [
        "# Calculating Mu and Sigma^2"
      ],
      "metadata": {
        "id": "9e6jnhVEqT6W"
      }
    },
    {
      "cell_type": "code",
      "source": [
        "mu = []\n",
        "sig = []\n",
        "d = 40\n",
        "i = 0.025\n",
        "w = 0\n",
        "for i in range(d):\n",
        "  x = w * EA + (1-w) * EM\n",
        "  y = w**2 * VA + (1-w)**2 * VM + 2*w*(1-w)*C*np.sqrt(VA)*np.sqrt(VM)\n",
        "  mu.append(x)\n",
        "  sig.append(y)\n",
        "  w = w + i\n",
        "print(mu)\n",
        "print(sig) \n"
      ],
      "metadata": {
        "colab": {
          "base_uri": "https://localhost:8080/"
        },
        "id": "uBcI92fLy70M",
        "outputId": "d2202204-c595-41d4-ae05-fcb8ea4426c7"
      },
      "execution_count": 56,
      "outputs": [
        {
          "output_type": "stream",
          "name": "stdout",
          "text": [
            "[0.0010375848497060061, 0.0010375848497060061, 0.0037376536283244845, 0.00913779118556144, 0.017237997521416876, 0.02803827263589079, 0.041538616528983184, 0.057739029200694056, 0.07663951065102341, 0.09824006087997124, 0.12254067988753753, 0.14954136767372234, 0.1792421242385256, 0.21164294958194735, 0.24674384370398755, 0.28454480660464626, 0.3250458382839234, 0.36824693874181913, 0.41414810797833324, 0.46274934599346584, 0.514050652787217, 0.5680520283595865, 0.6247534727105745, 0.684154985840181, 0.7462565677484061, 0.8110582184352495, 0.8785599379007116, 0.9487617261447919, 1.0216635831674907, 1.0972655089688081, 1.175567503548744, 1.2565695669072985, 1.3402716990444712, 1.4266738999602626, 1.5157761696546725, 1.6075785081277005, 1.7020809153793475, 1.7992833914096127, 1.8991859362184962, 2.0017885498059984]\n",
            "[0.00029068735185978364, 0.00029068735185978364, 0.0003379499212105069, 0.0009095969060928456, 0.0029598719988685844, 0.007920140738080401, 0.01769889050845183, 0.03468173054088736, 0.0617313919124724, 0.1021877275464732, 0.15986771221233664, 0.23906544252569084, 0.3445521369483453, 0.4815761357882886, 0.6558629011996935, 0.8736150171829102, 1.1415121895844704, 1.4667112460970877, 1.8568461362596569, 2.320027931457256, 2.8648448249211356, 3.500362131728739, 4.236122288803674, 5.082144854915754, 6.04892651068095, 7.147441058561419, 8.38913942286549, 9.785949649747721, 11.350276907208794, 13.095003485095603, 15.033488795101192, 17.179569370764824, 19.547558867471906, 22.152248062454078, 25.008904854789108, 28.133274265400985, 31.541578437059854, 35.25051663438202, 39.2772652438299, 43.639477773712485]\n"
          ]
        }
      ]
    },
    {
      "cell_type": "markdown",
      "source": [
        "# Plotting Mu and Sigma^2"
      ],
      "metadata": {
        "id": "AphhisJoqZ2m"
      }
    },
    {
      "cell_type": "code",
      "source": [
        "plt.figure(figsize=(8, 8), dpi=80)\n",
        "plt.scatter(sig,mu)\n",
        "plt.xlabel(\"Sigma square\")\n",
        "plt.ylabel(\"Mu\")\n",
        "plt.show()"
      ],
      "metadata": {
        "colab": {
          "base_uri": "https://localhost:8080/",
          "height": 548
        },
        "id": "J1-8XICp0KVl",
        "outputId": "3a5ad2fb-dcfe-4470-ac95-c1934bbc1fb6"
      },
      "execution_count": 60,
      "outputs": [
        {
          "output_type": "display_data",
          "data": {
            "image/png": "[encoded data removed]",
            "text/plain": [
              "<Figure size 640x640 with 1 Axes>"
            ]
          },
          "metadata": {
            "needs_background": "light"
          }
        }
      ]
    },
    {
      "cell_type": "code",
      "source": [
        "plt.figure(figsize=(8, 8), dpi=80)\n",
        "plt.plot(sig,mu)\n",
        "plt.xlabel(\"Sigma square\")\n",
        "plt.ylabel(\"Mu\")\n",
        "plt.show()"
      ],
      "metadata": {
        "colab": {
          "base_uri": "https://localhost:8080/",
          "height": 548
        },
        "id": "IHkYe5a8pXaf",
        "outputId": "73e12c31-bf66-4e39-c7eb-1552496eb4df"
      },
      "execution_count": 61,
      "outputs": [
        {
          "output_type": "display_data",
          "data": {
            "image/png": "[encoded data removed]",
            "text/plain": [
              "<Figure size 640x640 with 1 Axes>"
            ]
          },
          "metadata": {
            "needs_background": "light"
          }
        }
      ]
    }
  ]
}